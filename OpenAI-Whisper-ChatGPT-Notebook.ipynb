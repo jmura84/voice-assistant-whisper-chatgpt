{
 "cells": [
  {
   "cell_type": "markdown",
   "metadata": {
    "id": "kvi6cAEHY5sh"
   },
   "source": [
    "# Installation"
   ]
  },
  {
   "cell_type": "code",
   "execution_count": 24,
   "metadata": {
    "colab": {
     "base_uri": "https://localhost:8080/"
    },
    "id": "ZsJUxc0aRsAf",
    "outputId": "29eb71fb-e703-4af4-9004-6621d502fdc9"
   },
   "outputs": [
    {
     "name": "stdout",
     "output_type": "stream",
     "text": [
      "Requirement already satisfied: pywhisper in c:\\users\\yourg\\appdata\\local\\programs\\python\\python39\\lib\\site-packages (1.0.6)\n",
      "Requirement already satisfied: numpy in c:\\users\\yourg\\appdata\\local\\programs\\python\\python39\\lib\\site-packages (from pywhisper) (1.19.3)\n",
      "Requirement already satisfied: transformers>=4.19.0 in c:\\users\\yourg\\appdata\\local\\programs\\python\\python39\\lib\\site-packages (from pywhisper) (4.25.1)\n",
      "Requirement already satisfied: moviepy==1.0.3 in c:\\users\\yourg\\appdata\\local\\programs\\python\\python39\\lib\\site-packages (from pywhisper) (1.0.3)\n",
      "Requirement already satisfied: more-itertools in c:\\users\\yourg\\appdata\\local\\programs\\python\\python39\\lib\\site-packages (from pywhisper) (9.0.0)\n",
      "Requirement already satisfied: torch in c:\\users\\yourg\\appdata\\local\\programs\\python\\python39\\lib\\site-packages (from pywhisper) (1.12.0)\n",
      "Requirement already satisfied: tqdm in c:\\users\\yourg\\appdata\\local\\programs\\python\\python39\\lib\\site-packages (from pywhisper) (4.60.0)\n",
      "Requirement already satisfied: decorator<5.0,>=4.0.2 in c:\\users\\yourg\\appdata\\local\\programs\\python\\python39\\lib\\site-packages (from moviepy==1.0.3->pywhisper) (4.4.2)\n",
      "Requirement already satisfied: proglog<=1.0.0 in c:\\users\\yourg\\appdata\\local\\programs\\python\\python39\\lib\\site-packages (from moviepy==1.0.3->pywhisper) (0.1.10)\n",
      "Requirement already satisfied: imageio-ffmpeg>=0.2.0 in c:\\users\\yourg\\appdata\\local\\programs\\python\\python39\\lib\\site-packages (from moviepy==1.0.3->pywhisper) (0.4.8)\n",
      "Requirement already satisfied: requests<3.0,>=2.8.1 in c:\\users\\yourg\\appdata\\local\\programs\\python\\python39\\lib\\site-packages (from moviepy==1.0.3->pywhisper) (2.28.1)\n",
      "Requirement already satisfied: imageio<3.0,>=2.5 in c:\\users\\yourg\\appdata\\local\\programs\\python\\python39\\lib\\site-packages (from moviepy==1.0.3->pywhisper) (2.25.0)\n",
      "Requirement already satisfied: tokenizers!=0.11.3,<0.14,>=0.11.1 in c:\\users\\yourg\\appdata\\local\\programs\\python\\python39\\lib\\site-packages (from transformers>=4.19.0->pywhisper) (0.13.2)\n",
      "Requirement already satisfied: filelock in c:\\users\\yourg\\appdata\\local\\programs\\python\\python39\\lib\\site-packages (from transformers>=4.19.0->pywhisper) (3.9.0)\n",
      "Requirement already satisfied: regex!=2019.12.17 in c:\\users\\yourg\\appdata\\local\\programs\\python\\python39\\lib\\site-packages (from transformers>=4.19.0->pywhisper) (2022.7.25)\n",
      "Requirement already satisfied: huggingface-hub<1.0,>=0.10.0 in c:\\users\\yourg\\appdata\\local\\programs\\python\\python39\\lib\\site-packages (from transformers>=4.19.0->pywhisper) (0.11.1)\n",
      "Requirement already satisfied: packaging>=20.0 in c:\\users\\yourg\\appdata\\local\\programs\\python\\python39\\lib\\site-packages (from transformers>=4.19.0->pywhisper) (23.0)\n",
      "Requirement already satisfied: pyyaml>=5.1 in c:\\users\\yourg\\appdata\\local\\programs\\python\\python39\\lib\\site-packages (from transformers>=4.19.0->pywhisper) (6.0)\n",
      "Requirement already satisfied: typing-extensions in c:\\users\\yourg\\appdata\\local\\programs\\python\\python39\\lib\\site-packages (from torch->pywhisper) (4.3.0)\n",
      "Requirement already satisfied: pillow>=8.3.2 in c:\\users\\yourg\\appdata\\local\\programs\\python\\python39\\lib\\site-packages (from imageio<3.0,>=2.5->moviepy==1.0.3->pywhisper) (9.4.0)\n",
      "Requirement already satisfied: urllib3<1.27,>=1.21.1 in c:\\users\\yourg\\appdata\\local\\programs\\python\\python39\\lib\\site-packages (from requests<3.0,>=2.8.1->moviepy==1.0.3->pywhisper) (1.26.11)\n",
      "Requirement already satisfied: idna<4,>=2.5 in c:\\users\\yourg\\appdata\\local\\programs\\python\\python39\\lib\\site-packages (from requests<3.0,>=2.8.1->moviepy==1.0.3->pywhisper) (3.3)\n",
      "Requirement already satisfied: certifi>=2017.4.17 in c:\\users\\yourg\\appdata\\local\\programs\\python\\python39\\lib\\site-packages (from requests<3.0,>=2.8.1->moviepy==1.0.3->pywhisper) (2022.6.15)\n",
      "Requirement already satisfied: charset-normalizer<3,>=2 in c:\\users\\yourg\\appdata\\local\\programs\\python\\python39\\lib\\site-packages (from requests<3.0,>=2.8.1->moviepy==1.0.3->pywhisper) (2.1.0)\n"
     ]
    }
   ],
   "source": [
    "!pip install -q git+https://github.com/openai/whisper.git\n",
    "!pip install pywhisper\n",
    "!pip install -q gradio\n",
    "!pip install -q pyChatGPT"
   ]
  },
  {
   "cell_type": "markdown",
   "metadata": {
    "id": "usUSep_lY7q8"
   },
   "source": [
    "# Imports"
   ]
  },
  {
   "cell_type": "code",
   "execution_count": 25,
   "metadata": {
    "id": "Kr5faKybKi4p"
   },
   "outputs": [],
   "source": [
    "import pywhisper\n",
    "import gradio as gr \n",
    "import time\n",
    "from pyChatGPT import ChatGPT\n",
    "import warnings\n",
    "import ffmpeg"
   ]
  },
  {
   "cell_type": "markdown",
   "metadata": {
    "id": "EyW6weauY9gf"
   },
   "source": [
    "# Defining Variables"
   ]
  },
  {
   "cell_type": "code",
   "execution_count": 26,
   "metadata": {
    "id": "u_6_s2iHboR4"
   },
   "outputs": [],
   "source": [
    "warnings.filterwarnings(\"ignore\")"
   ]
  },
  {
   "cell_type": "code",
   "execution_count": 28,
   "metadata": {
    "id": "HP2ovD3xaDfC"
   },
   "outputs": [],
   "source": [
    "secret_token = \"eyJhbGciOiJkaXIiLCJlbmMiOiJBMjU2R0NNIn0..tmH7qrE7-CW4XdGP.g2KHpk5LYembeNQIcCSATflL1IPT9Kpl-GZCu0rTSaZ1_9QAPopbhS2WuYThS1vEs2gU8wC4iioNuzsSVUXO1n5A0Pt_avSalto5sCQMeAvQqNJm28p81uREB-HHgz-qLuAvHeYAl5T1YStkXng8foJzpHgSh5ER2ssg1SSM9V9ag9uPLvcdRPJ0RCexKDzlnZDpcXbCzNe_rfRxxJfnkyzXHlQGABE9C2lnWXoBipCaQ2ab6CrNoeA4mcqVT1hZsquNio4IwItNVBK4pWBfJvi-24hRmquAIiZ4M76ZggljPFV8NR64NEKjCuZpEtHs-ZgLhiFNL1A6LXHB2ReERBfL-W620q4RLlIYYY3G8GsLtfPjAafLU3nZy-pdMXcXmFp0N63yFQ5sL4hYL0ND1svWbRqQ1ap6iedmoNOqsPaPVBmHGNjGv9ceHiPNgQwdYPbXp4XuJNS8XgenKTJjYgpWg6u5D4E1ri-rq8nRu3lKm_EfjJdQWPXVTer9qkLcHnOeF8EIHFyP9It7fv9KUvoeE4AsGqMGx9s1-e1Mo_iju9wvwu8QjbIHh2g_oyvd9Uua3GvjnHUSSxCSmlppWu1ISC-bY1FTwYJ7tRiU7YMf9wMhGqpKW_SHLSSDDB8KjssZnBIyivSbsB3Lp5iIc3PhFB_SOvg9Czc-n2YPEAblPAn0eT9eHBndvb062MojsZTa-m5GXtEJOAxEBkAKN42LVom6dL5mYSns47IkgJcpTr-1WrPdvshQJ7gUPK2E8DsmiDw_KG1Gkxp91oc53u2ymCwF4Us8ouzSc2nkJ3M2s2jw67J4N8azp82lwHCYiD78hHAtseDUBODrij8YEFFmdGGa6O4OzMC-vF21MLP7Lei5zG2zMsA_uSqMydafLz-KwNJs0pMyq7S_js-yNSPVbifXqSYlRSVqvxYlve8-nI_ZWsre2gdcANLAOhly1ozpf3qSus2XxNpggaYfl1nUBg7KeVLnUOU6Z3LabdzZlf52yA7FLZkECkORCCAIAtZS_JUU9HuBg18eloy-f2tM4X7Z32OwEdfBU7tbnYHThIKzRbKWQqqmw5dTKUY6yKQ-yMmkobje2aWsQ9sah4X6D3p4458bhS7QiZjPLSNKPVW6--cdHWJDpcJyxlUo13C986nHkpD-zaSRx0sz2lLwLNGRKV5VMXVlWJmQsy_kajB9QK5Muqp3ThCsYCHAl4sbP_NYma_O1c8scm6QCIXgAPPZ0K1a7GnNu_QrBTvjY17t8UByI9920df4D0A1DiVeLH1Z27wUF6HUu7Vh7e7AuCrKi3y5d_1W14sjObm5d0pd1qyNYf3EPLWz7VKYDdqRTHwFIjZ60h8c3as_ziQ1EhYPc-BJLCp91rBWV2yJHqbMUIH1SEpqvbsqcgRl3JkTK5R76cvoin5eyvI_vJOvJzXKIIaOk5jgBdFRGZPV8y5g0LNv_ewBrPU8cjiMXiPFGTIB6c_CsyN5pQ0Ied-AYdbAVC-efuqa5mKajE59J5pvLLw02Jc8NtwnD06iKKzOcUrCLLWwZEushxcNoTxbT8JhpLNWdUduBR2LwkjcOVOGw0x2VcCEWAm53cVMMd1lx9GZEBwdh3ETz1FeEmyDepOpxZExOsyS431eW_wcY3cGse79ELABO0rK-TxTRW2cNbNar4zRT0YDFfehwmVQRHRwF51r-Xqp9VhWvToKwoO6YndotygKK4um5Skuz7ysRK6A_-W01pqx1AALJKAg4ZbLTA29XgyuLVK2hT3dr-3HoRKRcrfw-7tm9L3eM6DWiOEsbjVXlNua9E8yzyfQ7CjHkaBKLdYK029YCmVPVWTgPTPTXv5SUrCwnZtg0v8kwQ1iBSTmPcRACcihrEiTo-2bbGUmTDbgNvOTPSbW1KO_0xhf3nr27ZNmvn1RT7UplcK0FVUhZVPmqoHB-n979TYjbL8xoPwFH7iAIF7BTx815oWMnqLzYYxCyZJ9xm8htxN9vXm7T2gOjHwzhaD45hkDyqZ-VcWPEJxpT1_nVedKF7tJz3YRdxZaBunZPjCOM9Kedjr7zyLZOWCY9OEHDVj8eleD0ExZdnLB51mbgwlltV1jXDPj9yE8_BcLuRwz_eIo5vBJLiaj1Bm_6B98tDNSRDu4S_z2qSk9CJroT3AJfLxwKhX7L6Fq0c8OG43qd_xm-0TR9nEAeHNoeaqVzjIj52DJWGASiwLv0yqKHCum9Q8BXeuVK2Ot9Yzdv6DaoEA8t018r5JEcEw6a4Ks61Wsylq2SvplZmGpibav3dEg.w84sa8h2u174RVkOrq7eXA\" # Enter your session token here!"
   ]
  },
  {
   "cell_type": "code",
   "execution_count": 29,
   "metadata": {
    "colab": {
     "base_uri": "https://localhost:8080/"
    },
    "id": "cMNnv3oHaDt8",
    "outputId": "c5ae5c6d-163d-4d28-a483-8f0035760098"
   },
   "outputs": [],
   "source": [
    "model = pywhisper.load_model(\"base\")"
   ]
  },
  {
   "cell_type": "code",
   "execution_count": 30,
   "metadata": {
    "colab": {
     "base_uri": "https://localhost:8080/"
    },
    "id": "e3bjy1E3R-MN",
    "outputId": "d396d1df-bdc5-4e62-abf7-3f57be3154de"
   },
   "outputs": [
    {
     "data": {
      "text/plain": [
       "device(type='cpu')"
      ]
     },
     "execution_count": 30,
     "metadata": {},
     "output_type": "execute_result"
    }
   ],
   "source": [
    "model.device"
   ]
  },
  {
   "cell_type": "markdown",
   "metadata": {
    "id": "14CPZJMxY_Ks"
   },
   "source": [
    "# Transcribe Function"
   ]
  },
  {
   "cell_type": "code",
   "execution_count": 31,
   "metadata": {
    "id": "JtTvvQQPcOZZ"
   },
   "outputs": [],
   "source": [
    "def transcribe(audio):\n",
    "\n",
    "    # load audio and pad/trim it to fit 30 seconds\n",
    "    audio = pywhisper.load_audio(audio)\n",
    "    audio = pywhisper.pad_or_trim(audio)\n",
    "\n",
    "    # make log-Mel spectrogram and move to the same device as the model\n",
    "    mel = pywhisper.log_mel_spectrogram(audio).to(model.device)\n",
    "\n",
    "    # detect the spoken language\n",
    "    _, probs = model.detect_language(mel)\n",
    "\n",
    "    # decode the audio\n",
    "    options = pywhisper.DecodingOptions()\n",
    "    result = pywhisper.decode(model, mel, options)\n",
    "    result_text = result.text\n",
    "\n",
    "    # Pass the generated text to Audio\n",
    "    chatgpt_api = ChatGPT(secret_token)\n",
    "    resp = chatgpt_api.send_message(result_text)\n",
    "    out_result = resp['message']\n",
    "\n",
    "    return [result_text, out_result]"
   ]
  },
  {
   "cell_type": "code",
   "execution_count": null,
   "metadata": {
    "id": "8Yn912jvfiz-"
   },
   "outputs": [],
   "source": []
  },
  {
   "cell_type": "markdown",
   "metadata": {
    "id": "aJaFmE9aZB_8"
   },
   "source": [
    "# Gradio Interface"
   ]
  },
  {
   "cell_type": "code",
   "execution_count": 33,
   "metadata": {
    "colab": {
     "base_uri": "https://localhost:8080/",
     "height": 633
    },
    "id": "deSAVvfJcWBo",
    "outputId": "4fb3e1dd-0a3e-4554-ba35-2a8e8543d376"
   },
   "outputs": [
    {
     "name": "stdout",
     "output_type": "stream",
     "text": [
      "Running on local URL:  http://127.0.0.1:7865\n",
      "\n",
      "To create a public link, set `share=True` in `launch()`.\n"
     ]
    },
    {
     "data": {
      "text/html": [
       "<div><iframe src=\"http://127.0.0.1:7865/\" width=\"100%\" height=\"500\" allow=\"autoplay; camera; microphone; clipboard-read; clipboard-write;\" frameborder=\"0\" allowfullscreen></iframe></div>"
      ],
      "text/plain": [
       "<IPython.core.display.HTML object>"
      ]
     },
     "metadata": {},
     "output_type": "display_data"
    },
    {
     "data": {
      "text/plain": []
     },
     "execution_count": 33,
     "metadata": {},
     "output_type": "execute_result"
    }
   ],
   "source": [
    "output_1 = gr.Textbox(label=\"Speech to Text\")\n",
    "output_2 = gr.Textbox(label=\"ChatGPT Output\")\n",
    "\n",
    "\n",
    "gr.Interface(\n",
    "    title = 'OpenAI pywhisper and ChatGPT ASR Gradio Web UI', \n",
    "    fn=transcribe, \n",
    "    inputs=[\n",
    "        gr.inputs.Audio(source=\"microphone\", type=\"filepath\")\n",
    "    ],\n",
    "\n",
    "    outputs=[\n",
    "        output_1,  output_2\n",
    "    ],\n",
    "    live=True).launch()"
   ]
  },
  {
   "cell_type": "code",
   "execution_count": null,
   "metadata": {
    "id": "y2Zid2MKdPxK"
   },
   "outputs": [],
   "source": []
  }
 ],
 "metadata": {
  "accelerator": "GPU",
  "colab": {
   "collapsed_sections": [
    "kvi6cAEHY5sh",
    "usUSep_lY7q8",
    "14CPZJMxY_Ks",
    "aJaFmE9aZB_8"
   ],
   "provenance": []
  },
  "gpuClass": "standard",
  "kernelspec": {
   "display_name": "Python 3",
   "language": "python",
   "name": "python3"
  },
  "language_info": {
   "codemirror_mode": {
    "name": "ipython",
    "version": 3
   },
   "file_extension": ".py",
   "mimetype": "text/x-python",
   "name": "python",
   "nbconvert_exporter": "python",
   "pygments_lexer": "ipython3",
   "version": "3.9.5"
  }
 },
 "nbformat": 4,
 "nbformat_minor": 1
}
